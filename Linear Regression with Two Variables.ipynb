{
 "cells": [
  {
   "cell_type": "markdown",
   "metadata": {},
   "source": [
    "## 梯度下降算法求解"
   ]
  },
  {
   "cell_type": "code",
   "execution_count": 11,
   "metadata": {},
   "outputs": [],
   "source": [
    "import numpy as np\n",
    "import pandas as pd\n",
    "import matplotlib.pyplot as plt\n",
    "# %matplotlib inline"
   ]
  },
  {
   "cell_type": "code",
   "execution_count": 12,
   "metadata": {},
   "outputs": [
    {
     "data": {
      "text/html": [
       "<div>\n",
       "<style scoped>\n",
       "    .dataframe tbody tr th:only-of-type {\n",
       "        vertical-align: middle;\n",
       "    }\n",
       "\n",
       "    .dataframe tbody tr th {\n",
       "        vertical-align: top;\n",
       "    }\n",
       "\n",
       "    .dataframe thead th {\n",
       "        text-align: right;\n",
       "    }\n",
       "</style>\n",
       "<table border=\"1\" class=\"dataframe\">\n",
       "  <thead>\n",
       "    <tr style=\"text-align: right;\">\n",
       "      <th></th>\n",
       "      <th>ones</th>\n",
       "      <th>pouplation</th>\n",
       "      <th>investment</th>\n",
       "      <th>production</th>\n",
       "    </tr>\n",
       "  </thead>\n",
       "  <tbody>\n",
       "    <tr>\n",
       "      <td>0</td>\n",
       "      <td>1</td>\n",
       "      <td>553.7</td>\n",
       "      <td>38.03</td>\n",
       "      <td>350.80</td>\n",
       "    </tr>\n",
       "    <tr>\n",
       "      <td>1</td>\n",
       "      <td>1</td>\n",
       "      <td>550.5</td>\n",
       "      <td>40.79</td>\n",
       "      <td>358.89</td>\n",
       "    </tr>\n",
       "    <tr>\n",
       "      <td>2</td>\n",
       "      <td>1</td>\n",
       "      <td>552.3</td>\n",
       "      <td>80.83</td>\n",
       "      <td>374.69</td>\n",
       "    </tr>\n",
       "    <tr>\n",
       "      <td>3</td>\n",
       "      <td>1</td>\n",
       "      <td>548.7</td>\n",
       "      <td>90.78</td>\n",
       "      <td>420.10</td>\n",
       "    </tr>\n",
       "    <tr>\n",
       "      <td>4</td>\n",
       "      <td>1</td>\n",
       "      <td>559.3</td>\n",
       "      <td>110.72</td>\n",
       "      <td>522.80</td>\n",
       "    </tr>\n",
       "    <tr>\n",
       "      <td>5</td>\n",
       "      <td>1</td>\n",
       "      <td>560.5</td>\n",
       "      <td>129.48</td>\n",
       "      <td>589.56</td>\n",
       "    </tr>\n",
       "    <tr>\n",
       "      <td>6</td>\n",
       "      <td>1</td>\n",
       "      <td>565.3</td>\n",
       "      <td>171.92</td>\n",
       "      <td>634.94</td>\n",
       "    </tr>\n",
       "    <tr>\n",
       "      <td>7</td>\n",
       "      <td>1</td>\n",
       "      <td>569.3</td>\n",
       "      <td>183.41</td>\n",
       "      <td>762.10</td>\n",
       "    </tr>\n",
       "    <tr>\n",
       "      <td>8</td>\n",
       "      <td>1</td>\n",
       "      <td>556.7</td>\n",
       "      <td>286.77</td>\n",
       "      <td>907.95</td>\n",
       "    </tr>\n",
       "    <tr>\n",
       "      <td>9</td>\n",
       "      <td>1</td>\n",
       "      <td>558.0</td>\n",
       "      <td>407.72</td>\n",
       "      <td>929.60</td>\n",
       "    </tr>\n",
       "    <tr>\n",
       "      <td>10</td>\n",
       "      <td>1</td>\n",
       "      <td>571.0</td>\n",
       "      <td>430.62</td>\n",
       "      <td>1095.28</td>\n",
       "    </tr>\n",
       "    <tr>\n",
       "      <td>11</td>\n",
       "      <td>1</td>\n",
       "      <td>573.0</td>\n",
       "      <td>563.25</td>\n",
       "      <td>1306.30</td>\n",
       "    </tr>\n",
       "    <tr>\n",
       "      <td>12</td>\n",
       "      <td>1</td>\n",
       "      <td>583.4</td>\n",
       "      <td>637.91</td>\n",
       "      <td>1447.43</td>\n",
       "    </tr>\n",
       "    <tr>\n",
       "      <td>13</td>\n",
       "      <td>1</td>\n",
       "      <td>580.2</td>\n",
       "      <td>1055.41</td>\n",
       "      <td>1599.41</td>\n",
       "    </tr>\n",
       "  </tbody>\n",
       "</table>\n",
       "</div>"
      ],
      "text/plain": [
       "    ones  pouplation  investment  production\n",
       "0      1       553.7       38.03      350.80\n",
       "1      1       550.5       40.79      358.89\n",
       "2      1       552.3       80.83      374.69\n",
       "3      1       548.7       90.78      420.10\n",
       "4      1       559.3      110.72      522.80\n",
       "5      1       560.5      129.48      589.56\n",
       "6      1       565.3      171.92      634.94\n",
       "7      1       569.3      183.41      762.10\n",
       "8      1       556.7      286.77      907.95\n",
       "9      1       558.0      407.72      929.60\n",
       "10     1       571.0      430.62     1095.28\n",
       "11     1       573.0      563.25     1306.30\n",
       "12     1       583.4      637.91     1447.43\n",
       "13     1       580.2     1055.41     1599.41"
      ]
     },
     "execution_count": 12,
     "metadata": {},
     "output_type": "execute_result"
    }
   ],
   "source": [
    "data = pd.read_excel(\"C:/Users/张武/Desktop/Python Learn/lizhixin/data.xlsx\",sheet_name = \"Sheet1\")\n",
    "data.insert(0,\"ones\",1)\n",
    "data"
   ]
  },
  {
   "cell_type": "code",
   "execution_count": 13,
   "metadata": {},
   "outputs": [],
   "source": [
    "#数据准备\n",
    "X = data.iloc[:,0:-1]\n",
    "Y = data.iloc[:,-1]\n",
    "X = X.values #(14,3)\n",
    "X = X.reshape(14,3)\n",
    "Y = Y.values #(14,1)\n",
    "Y = Y.reshape(14,1)"
   ]
  },
  {
   "cell_type": "code",
   "execution_count": 14,
   "metadata": {},
   "outputs": [],
   "source": [
    "#损失函数\n",
    "def costFunction(X,Y,W):\n",
    "    cost = (X @ W -Y)**2\n",
    "    return np.sum(cost)/(2*len(X))"
   ]
  },
  {
   "cell_type": "code",
   "execution_count": 15,
   "metadata": {
    "scrolled": true
   },
   "outputs": [
    {
     "data": {
      "text/plain": [
       "173359.67834344073"
      ]
     },
     "execution_count": 15,
     "metadata": {},
     "output_type": "execute_result"
    }
   ],
   "source": [
    "W = np.random.randn(3,1) #初始化W为标准正态分布\n",
    "cost_init = costFunction(X,Y,W)\n",
    "cost_init"
   ]
  },
  {
   "cell_type": "code",
   "execution_count": 16,
   "metadata": {},
   "outputs": [],
   "source": [
    "#梯度下降算法\n",
    "def SGD(X,Y,W,lr,iters):\n",
    "    costs = []\n",
    "    for i in range(iters):\n",
    "        W = W - lr * X.T @ (X @ W -Y)/len(X) #梯度下降函数\n",
    "        cost = costFunction(X,Y,W)\n",
    "        \n",
    "        if i % 10000  == 0:\n",
    "            costs.append(cost)\n",
    "            print(cost)\n",
    "    return W, costs"
   ]
  },
  {
   "cell_type": "code",
   "execution_count": 17,
   "metadata": {},
   "outputs": [],
   "source": [
    "#初始化lr(学习率), iters(迭代次数)\n",
    "lr = 0.0000005\n",
    "iters = 100000"
   ]
  },
  {
   "cell_type": "code",
   "execution_count": 18,
   "metadata": {
    "scrolled": true
   },
   "outputs": [
    {
     "name": "stdout",
     "output_type": "stream",
     "text": [
      "116472.18841320132\n",
      "6675.302177404358\n",
      "6675.299099813746\n",
      "6675.296022226779\n",
      "6675.292944643455\n",
      "6675.289867063774\n",
      "6675.28678948773\n",
      "6675.283711915332\n",
      "6675.28063434658\n",
      "6675.277556781467\n",
      "[[-0.57409098]\n",
      " [ 0.70926856]\n",
      " [ 1.35500825]]\n"
     ]
    }
   ],
   "source": [
    "W, costs = SGD(X,Y,W,lr,iters)\n",
    "print(W)"
   ]
  },
  {
   "cell_type": "code",
   "execution_count": 20,
   "metadata": {
    "scrolled": true
   },
   "outputs": [
    {
     "data": {
      "text/plain": [
       "Text(0.5, 1.0, 'iters vs cost')"
      ]
     },
     "execution_count": 20,
     "metadata": {},
     "output_type": "execute_result"
    },
    {
     "data": {
      "image/png": "[encoded data removed]",
      "text/plain": [
       "<Figure size 432x288 with 1 Axes>"
      ]
     },
     "metadata": {
      "needs_background": "light"
     },
     "output_type": "display_data"
    }
   ],
   "source": [
    "plt.plot(np.arange(iters,step=10000),costs)\n",
    "plt.xlabel(\"iters\")\n",
    "plt.ylabel(\"cost\")\n",
    "plt.title(\"iters vs cost\")"
   ]
  },
  {
   "cell_type": "code",
   "execution_count": null,
   "metadata": {},
   "outputs": [],
   "source": []
  },
  {
   "cell_type": "markdown",
   "metadata": {},
   "source": [
    "# 正规方程求解"
   ]
  },
  {
   "cell_type": "code",
   "execution_count": 21,
   "metadata": {},
   "outputs": [
    {
     "data": {
      "text/plain": [
       "array([[1.00000e+00, 5.53700e+02, 3.80300e+01],\n",
       "       [1.00000e+00, 5.50500e+02, 4.07900e+01],\n",
       "       [1.00000e+00, 5.52300e+02, 8.08300e+01],\n",
       "       [1.00000e+00, 5.48700e+02, 9.07800e+01],\n",
       "       [1.00000e+00, 5.59300e+02, 1.10720e+02],\n",
       "       [1.00000e+00, 5.60500e+02, 1.29480e+02],\n",
       "       [1.00000e+00, 5.65300e+02, 1.71920e+02],\n",
       "       [1.00000e+00, 5.69300e+02, 1.83410e+02],\n",
       "       [1.00000e+00, 5.56700e+02, 2.86770e+02],\n",
       "       [1.00000e+00, 5.58000e+02, 4.07720e+02],\n",
       "       [1.00000e+00, 5.71000e+02, 4.30620e+02],\n",
       "       [1.00000e+00, 5.73000e+02, 5.63250e+02],\n",
       "       [1.00000e+00, 5.83400e+02, 6.37910e+02],\n",
       "       [1.00000e+00, 5.80200e+02, 1.05541e+03]])"
      ]
     },
     "execution_count": 21,
     "metadata": {},
     "output_type": "execute_result"
    }
   ],
   "source": [
    "X"
   ]
  },
  {
   "cell_type": "code",
   "execution_count": 22,
   "metadata": {},
   "outputs": [
    {
     "data": {
      "text/plain": [
       "array([[ 350.8 ],\n",
       "       [ 358.89],\n",
       "       [ 374.69],\n",
       "       [ 420.1 ],\n",
       "       [ 522.8 ],\n",
       "       [ 589.56],\n",
       "       [ 634.94],\n",
       "       [ 762.1 ],\n",
       "       [ 907.95],\n",
       "       [ 929.6 ],\n",
       "       [1095.28],\n",
       "       [1306.3 ],\n",
       "       [1447.43],\n",
       "       [1599.41]])"
      ]
     },
     "execution_count": 22,
     "metadata": {},
     "output_type": "execute_result"
    }
   ],
   "source": [
    "Y"
   ]
  },
  {
   "cell_type": "code",
   "execution_count": 23,
   "metadata": {},
   "outputs": [
    {
     "data": {
      "text/plain": [
       "array([[-6.62930178e+03],\n",
       "       [ 1.26790991e+01],\n",
       "       [ 9.87473744e-01]])"
      ]
     },
     "execution_count": 23,
     "metadata": {},
     "output_type": "execute_result"
    }
   ],
   "source": [
    "np.linalg.inv(X.T @ X) @ X.T @ Y"
   ]
  },
  {
   "cell_type": "code",
   "execution_count": null,
   "metadata": {},
   "outputs": [],
   "source": []
  }
 ],
 "metadata": {
  "kernelspec": {
   "display_name": "Python 3",
   "language": "python",
   "name": "python3"
  },
  "language_info": {
   "codemirror_mode": {
    "name": "ipython",
    "version": 3
   },
   "file_extension": ".py",
   "mimetype": "text/x-python",
   "name": "python",
   "nbconvert_exporter": "python",
   "pygments_lexer": "ipython3",
   "version": "3.7.4"
  }
 },
 "nbformat": 4,
 "nbformat_minor": 2
}
